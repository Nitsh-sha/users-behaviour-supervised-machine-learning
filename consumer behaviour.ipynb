{
 "cells": [
  {
   "cell_type": "markdown",
   "id": "80ccd633",
   "metadata": {},
   "source": [
    "## Introduction\n",
    "Mobile carrier Megaline has found out that many of their subscribers use legacy plans. They want to develop a model that would analyze subscribers' behavior and recommend one of Megaline's newer plans: Smart or Ultra.\n",
    "\n",
    "In this project, we have access to behavior data about subscribers who have already switched to the new plans. For this classification task, we need to develop a model that will pick the right plan. The threshold for accuracy is 0.75. We will check the accuracy using the validation dataset.\n",
    "\n",
    "The dataset contains monthly behavior information about one user. The information given is as follows:\n",
    "\n",
    "сalls — number of calls,\n",
    "minutes — total call duration in minutes,\n",
    "messages — number of text messages,\n",
    "mb_used — Internet traffic used in MB,\n",
    "is_ultra — plan for the current month (Ultra - 1, Smart - 0).\n",
    "We will start by loading and exploring the data, then we will split the data into a training set, a validation set, and a test set. We will investigate the quality of different models by changing hyperparameters. Finally, we will check the quality of the best model using the validation set and perform a sanity check on the model.\n"
   ]
  },
  {
   "cell_type": "markdown",
   "id": "6ef8a224",
   "metadata": {},
   "source": [
    "## Data Loading\n",
    "In this step, we will download the CSV file from the provided URL and load it into a pandas DataFrame for further analysis. The CSV file contains user behavior data that we will be analyzing."
   ]
  },
  {
   "cell_type": "code",
   "execution_count": 1,
   "id": "f3663115",
   "metadata": {},
   "outputs": [],
   "source": [
    "import pandas as pd"
   ]
  },
  {
   "cell_type": "code",
   "execution_count": 2,
   "id": "59bc19d2",
   "metadata": {},
   "outputs": [],
   "source": [
    "# Load the data\n",
    "df = pd.read_csv('users_behavior.csv')"
   ]
  },
  {
   "cell_type": "code",
   "execution_count": 3,
   "id": "f47a11cb",
   "metadata": {},
   "outputs": [
    {
     "data": {
      "text/html": [
       "<div>\n",
       "<style scoped>\n",
       "    .dataframe tbody tr th:only-of-type {\n",
       "        vertical-align: middle;\n",
       "    }\n",
       "\n",
       "    .dataframe tbody tr th {\n",
       "        vertical-align: top;\n",
       "    }\n",
       "\n",
       "    .dataframe thead th {\n",
       "        text-align: right;\n",
       "    }\n",
       "</style>\n",
       "<table border=\"1\" class=\"dataframe\">\n",
       "  <thead>\n",
       "    <tr style=\"text-align: right;\">\n",
       "      <th></th>\n",
       "      <th>calls</th>\n",
       "      <th>minutes</th>\n",
       "      <th>messages</th>\n",
       "      <th>mb_used</th>\n",
       "      <th>is_ultra</th>\n",
       "    </tr>\n",
       "  </thead>\n",
       "  <tbody>\n",
       "    <tr>\n",
       "      <th>0</th>\n",
       "      <td>40.0</td>\n",
       "      <td>311.90</td>\n",
       "      <td>83.0</td>\n",
       "      <td>19915.42</td>\n",
       "      <td>0</td>\n",
       "    </tr>\n",
       "    <tr>\n",
       "      <th>1</th>\n",
       "      <td>85.0</td>\n",
       "      <td>516.75</td>\n",
       "      <td>56.0</td>\n",
       "      <td>22696.96</td>\n",
       "      <td>0</td>\n",
       "    </tr>\n",
       "    <tr>\n",
       "      <th>2</th>\n",
       "      <td>77.0</td>\n",
       "      <td>467.66</td>\n",
       "      <td>86.0</td>\n",
       "      <td>21060.45</td>\n",
       "      <td>0</td>\n",
       "    </tr>\n",
       "    <tr>\n",
       "      <th>3</th>\n",
       "      <td>106.0</td>\n",
       "      <td>745.53</td>\n",
       "      <td>81.0</td>\n",
       "      <td>8437.39</td>\n",
       "      <td>1</td>\n",
       "    </tr>\n",
       "    <tr>\n",
       "      <th>4</th>\n",
       "      <td>66.0</td>\n",
       "      <td>418.74</td>\n",
       "      <td>1.0</td>\n",
       "      <td>14502.75</td>\n",
       "      <td>0</td>\n",
       "    </tr>\n",
       "  </tbody>\n",
       "</table>\n",
       "</div>"
      ],
      "text/plain": [
       "   calls  minutes  messages   mb_used  is_ultra\n",
       "0   40.0   311.90      83.0  19915.42         0\n",
       "1   85.0   516.75      56.0  22696.96         0\n",
       "2   77.0   467.66      86.0  21060.45         0\n",
       "3  106.0   745.53      81.0   8437.39         1\n",
       "4   66.0   418.74       1.0  14502.75         0"
      ]
     },
     "execution_count": 3,
     "metadata": {},
     "output_type": "execute_result"
    }
   ],
   "source": [
    "# Display the first few rows of the DataFrame\n",
    "df.head()"
   ]
  },
  {
   "cell_type": "markdown",
   "id": "c0361240",
   "metadata": {},
   "source": [
    "## Exploratory Data Analysis\n",
    "Now that we have loaded the data, let's perform some exploratory data analysis to understand the data better. We will start by checking the shape of the DataFrame, the data types of the columns, and the presence of any missing values."
   ]
  },
  {
   "cell_type": "code",
   "execution_count": 4,
   "id": "df9fe655",
   "metadata": {},
   "outputs": [
    {
     "name": "stdout",
     "output_type": "stream",
     "text": [
      "Shape of the DataFrame: (3214, 5)\n",
      "\n",
      "Data types of the columns:\n",
      "calls       float64\n",
      "minutes     float64\n",
      "messages    float64\n",
      "mb_used     float64\n",
      "is_ultra      int64\n",
      "dtype: object\n",
      "\n",
      "Missing values in each column:\n",
      "calls       0\n",
      "minutes     0\n",
      "messages    0\n",
      "mb_used     0\n",
      "is_ultra    0\n",
      "dtype: int64\n"
     ]
    }
   ],
   "source": [
    "# Check the shape of the DataFrame\n",
    "print('Shape of the DataFrame:', df.shape)\n",
    "\n",
    "# Check the data types of the columns\n",
    "print('\\nData types of the columns:')\n",
    "print(df.dtypes)\n",
    "\n",
    "# Check for missing values\n",
    "print('\\nMissing values in each column:')\n",
    "print(df.isnull().sum())"
   ]
  },
  {
   "cell_type": "markdown",
   "id": "fb90f23b",
   "metadata": {},
   "source": [
    "## Statistical Analysis\n",
    "In this step, we will perform some statistical analysis on the data. We will compute the descriptive statistics for the numerical columns to get a sense of the distribution of the data. We will also check the balance of the 'is_ultra' column to understand the distribution of the two classes."
   ]
  },
  {
   "cell_type": "code",
   "execution_count": 5,
   "id": "2780cd46",
   "metadata": {},
   "outputs": [
    {
     "name": "stdout",
     "output_type": "stream",
     "text": [
      "Descriptive statistics for the numerical columns:\n",
      "             calls      minutes     messages       mb_used     is_ultra\n",
      "count  3214.000000  3214.000000  3214.000000   3214.000000  3214.000000\n",
      "mean     63.038892   438.208787    38.281269  17207.673836     0.306472\n",
      "std      33.236368   234.569872    36.148326   7570.968246     0.461100\n",
      "min       0.000000     0.000000     0.000000      0.000000     0.000000\n",
      "25%      40.000000   274.575000     9.000000  12491.902500     0.000000\n",
      "50%      62.000000   430.600000    30.000000  16943.235000     0.000000\n",
      "75%      82.000000   571.927500    57.000000  21424.700000     1.000000\n",
      "max     244.000000  1632.060000   224.000000  49745.730000     1.000000\n",
      "\n",
      "Balance of the is_ultra column:\n",
      "0    2229\n",
      "1     985\n",
      "Name: is_ultra, dtype: int64\n"
     ]
    }
   ],
   "source": [
    "# Compute the descriptive statistics for the numerical columns\n",
    "print('Descriptive statistics for the numerical columns:')\n",
    "print(df.describe())\n",
    "\n",
    "# Check the balance of the 'is_ultra' column\n",
    "print('\\nBalance of the is_ultra column:')\n",
    "print(df['is_ultra'].value_counts())"
   ]
  },
  {
   "cell_type": "markdown",
   "id": "a0246cfc",
   "metadata": {},
   "source": [
    "## Data Visualization\n",
    "In this step, we will visualize the data to gain more insights. We will create histograms for the numerical columns to understand the distribution of the data. We will also create a bar plot for the 'is_ultra' column to visualize the balance of the two classes."
   ]
  },
  {
   "cell_type": "code",
   "execution_count": 6,
   "id": "eb270954",
   "metadata": {},
   "outputs": [
    {
     "data": {
      "image/png": "[encoded data removed]",
      "text/plain": [
       "<Figure size 1500x1000 with 4 Axes>"
      ]
     },
     "metadata": {},
     "output_type": "display_data"
    },
    {
     "data": {
      "image/png": "[encoded data removed]",
      "text/plain": [
       "<Figure size 640x480 with 1 Axes>"
      ]
     },
     "metadata": {},
     "output_type": "display_data"
    }
   ],
   "source": [
    "import matplotlib.pyplot as plt\n",
    "\n",
    "# Create histograms for the numerical columns\n",
    "df[['calls', 'minutes', 'messages', 'mb_used']].hist(bins=30, figsize=(15, 10))\n",
    "plt.suptitle('Histograms for the numerical columns')\n",
    "plt.show()\n",
    "\n",
    "# Create a bar plot for the 'is_ultra' column\n",
    "df['is_ultra'].value_counts().plot(kind='bar', title='Balance of the is_ultra column')\n",
    "plt.show()"
   ]
  },
  {
   "cell_type": "markdown",
   "id": "6526dfdb",
   "metadata": {},
   "source": [
    "## Data Splitting\n",
    "In this step, we will split the data into a training set, a validation set, and a test set. The training set will be used to train the model, the validation set will be used to tune the hyperparameters, and the test set will be used to evaluate the final model."
   ]
  },
  {
   "cell_type": "code",
   "execution_count": 7,
   "id": "2f234b45",
   "metadata": {},
   "outputs": [
    {
     "name": "stdout",
     "output_type": "stream",
     "text": [
      "Training set: (2571, 4) (2571,)\n",
      "Validation set: (321, 4) (321,)\n",
      "Test set: (322, 4) (322,)\n"
     ]
    }
   ],
   "source": [
    "from sklearn.model_selection import train_test_split\n",
    "\n",
    "# Separate the features and the target\n",
    "X = df.drop('is_ultra', axis=1)\n",
    "y = df['is_ultra']\n",
    "\n",
    "# Split the data into a training set and a temporary set using 80-20 split\n",
    "X_train, X_temp, y_train, y_temp = train_test_split(X, y, test_size=0.2, random_state=42)\n",
    "\n",
    "# Split the temporary set into a validation set and a test set using 50-50 split\n",
    "X_val, X_test, y_val, y_test = train_test_split(X_temp, y_temp, test_size=0.5, random_state=42)\n",
    "\n",
    "# Check the shapes of the datasets\n",
    "print('Training set:', X_train.shape, y_train.shape)\n",
    "print('Validation set:', X_val.shape, y_val.shape)\n",
    "print('Test set:', X_test.shape, y_test.shape)"
   ]
  },
  {
   "cell_type": "markdown",
   "id": "147c857b",
   "metadata": {},
   "source": [
    "## Model Selection and Hyperparameter Tuning\n",
    "In this step, we will investigate the quality of different models by changing hyperparameters. We will start with a logistic regression model as a baseline, and then try more complex models such as random forest and gradient boosting. We will use grid search to find the best hyperparameters for each model."
   ]
  },
  {
   "cell_type": "code",
   "execution_count": 8,
   "id": "ffc7e7ba",
   "metadata": {},
   "outputs": [
    {
     "name": "stdout",
     "output_type": "stream",
     "text": [
      "\n",
      " Logistic Regression\n",
      "Best parameters: {'C': 0.1}\n",
      "Validation accuracy: 0.7757009345794392\n",
      "\n",
      " Random Forest\n"
     ]
    },
    {
     "name": "stderr",
     "output_type": "stream",
     "text": [
      "/Users/nw/anaconda3/lib/python3.10/site-packages/sklearn/linear_model/_logistic.py:458: ConvergenceWarning: lbfgs failed to converge (status=1):\n",
      "STOP: TOTAL NO. of ITERATIONS REACHED LIMIT.\n",
      "\n",
      "Increase the number of iterations (max_iter) or scale the data as shown in:\n",
      "    https://scikit-learn.org/stable/modules/preprocessing.html\n",
      "Please also refer to the documentation for alternative solver options:\n",
      "    https://scikit-learn.org/stable/modules/linear_model.html#logistic-regression\n",
      "  n_iter_i = _check_optimize_result(\n"
     ]
    },
    {
     "name": "stdout",
     "output_type": "stream",
     "text": [
      "Best parameters: {'max_depth': 10, 'n_estimators': 200}\n",
      "Validation accuracy: 0.8473520249221184\n",
      "\n",
      " Gradient Boosting\n",
      "Best parameters: {'learning_rate': 0.1, 'n_estimators': 100}\n",
      "Validation accuracy: 0.8286604361370716\n"
     ]
    }
   ],
   "source": [
    "from sklearn.linear_model import LogisticRegression\n",
    "from sklearn.ensemble import RandomForestClassifier, GradientBoostingClassifier\n",
    "from sklearn.model_selection import GridSearchCV\n",
    "from sklearn.metrics import accuracy_score\n",
    "\n",
    "# Define the models\n",
    "models = [\n",
    "    {'name': 'Logistic Regression', 'model': LogisticRegression(random_state=42), 'params': {'C': [0.1, 1, 10]}},\n",
    "    {'name': 'Random Forest', 'model': RandomForestClassifier(random_state=42), 'params': {'n_estimators': [100, 200, 300], 'max_depth': [5, 10, 15]}},\n",
    "    {'name': 'Gradient Boosting', 'model': GradientBoostingClassifier(random_state=42), 'params': {'n_estimators': [100, 200, 300], 'learning_rate': [0.01, 0.1, 1]}}\n",
    "]\n",
    "\n",
    "# For each model, perform grid search and compute the validation accuracy\n",
    "for m in models:\n",
    "    print('\\n', m['name'])\n",
    "    grid = GridSearchCV(m['model'], m['params'], cv=5)\n",
    "    grid.fit(X_train, y_train)\n",
    "    print('Best parameters:', grid.best_params_)\n",
    "    y_pred = grid.predict(X_val)\n",
    "    print('Validation accuracy:', accuracy_score(y_val, y_pred))"
   ]
  },
  {
   "cell_type": "markdown",
   "id": "8a1bcecf",
   "metadata": {},
   "source": [
    "## Model Evaluation\n",
    "In this step, we will check the quality of the model using the test set. We will use the Random Forest model with 'max_depth' of 10 and 'n_estimators' of 200, which has the highest validation accuracy."
   ]
  },
  {
   "cell_type": "code",
   "execution_count": 9,
   "id": "7711d3bc",
   "metadata": {},
   "outputs": [
    {
     "name": "stdout",
     "output_type": "stream",
     "text": [
      "Test accuracy: 0.7950310559006211\n"
     ]
    }
   ],
   "source": [
    "# Train the best model on the training set\n",
    "best_model = RandomForestClassifier(max_depth=10, n_estimators=200, random_state=42)\n",
    "best_model.fit(X_train, y_train)\n",
    "\n",
    "# Predict the target for the test set\n",
    "y_pred_test = best_model.predict(X_test)\n",
    "\n",
    "# Compute the test accuracy\n",
    "test_accuracy = accuracy_score(y_test, y_pred_test)\n",
    "print('Test accuracy:', test_accuracy)"
   ]
  },
  {
   "cell_type": "markdown",
   "id": "ac844ccf",
   "metadata": {},
   "source": [
    "## Model Evaluation with Validation Set\n",
    "In this step, we will check the quality of the model using the validation set. We will use the Random Forest model with 'max_depth' of 10 and 'n_estimators' of 200, which has the highest validation accuracy."
   ]
  },
  {
   "cell_type": "code",
   "execution_count": 10,
   "id": "41b61c36",
   "metadata": {},
   "outputs": [
    {
     "name": "stdout",
     "output_type": "stream",
     "text": [
      "Validation accuracy: 0.8473520249221184\n"
     ]
    }
   ],
   "source": [
    "# Predict the target for the validation set\n",
    "y_pred_val = best_model.predict(X_val)\n",
    "\n",
    "# Compute the validation accuracy\n",
    "val_accuracy = accuracy_score(y_val, y_pred_val)\n",
    "print('Validation accuracy:', val_accuracy)"
   ]
  },
  {
   "cell_type": "markdown",
   "id": "2bc6a60f",
   "metadata": {},
   "source": [
    "## Sanity Check with Validation Set\n",
    "In this step, we will perform a sanity check on the model using the validation set. We will compare the performance of the model with a dummy classifier that always predicts the most frequent class. If our model performs better than the dummy classifier, it means that our model is learning something useful from the data."
   ]
  },
  {
   "cell_type": "code",
   "execution_count": 11,
   "id": "0e17d8b8",
   "metadata": {},
   "outputs": [
    {
     "name": "stdout",
     "output_type": "stream",
     "text": [
      "Dummy validation accuracy: 0.7320872274143302\n"
     ]
    }
   ],
   "source": [
    "from sklearn.dummy import DummyClassifier\n",
    "\n",
    "# Train a dummy classifier on the training set\n",
    "dummy = DummyClassifier(strategy='most_frequent')\n",
    "dummy.fit(X_train, y_train)\n",
    "\n",
    "# Predict the target for the validation set\n",
    "y_pred_dummy = dummy.predict(X_val)\n",
    "\n",
    "# Compute the validation accuracy\n",
    "dummy_accuracy = accuracy_score(y_val, y_pred_dummy)\n",
    "print('Dummy validation accuracy:', dummy_accuracy)"
   ]
  },
  {
   "cell_type": "markdown",
   "id": "b20e11af",
   "metadata": {},
   "source": [
    "## Conclusion\n",
    "In this project, we developed a model to analyze subscribers' behavior and recommend one of Megaline's newer plans: Smart or Ultra. We started by loading and exploring the data, then we split the data into a training set, a validation set, and a test set. We investigated the quality of different models by changing hyperparameters and found that the Random Forest model with 'max_depth' of 10 and 'n_estimators' of 100 had the highest validation accuracy. We then checked the quality of this model using the test set and achieved a test accuracy of 0.795, which is above the threshold of 0.75. We then checked the quality of this model using the validation set and achieved a validation accuracy of 0.838, which is also above the threshold of 0.75. \n",
    "\n",
    "Finally, we performed a sanity check on the model by comparing its performance with a dummy classifier that always predicts the most frequent class. Our model significantly outperformed the dummy classifier, indicating that it is learning something useful from the data.\n",
    "\n",
    "This model can be used by Megaline to analyze their subscribers' behavior and recommend one of their newer plans, which could help them transition their subscribers from legacy plans to newer ones."
   ]
  },
  {
   "cell_type": "code",
   "execution_count": null,
   "id": "21157847",
   "metadata": {},
   "outputs": [],
   "source": []
  }
 ],
 "metadata": {
  "kernelspec": {
   "display_name": "Python 3 (ipykernel)",
   "language": "python",
   "name": "python3"
  },
  "language_info": {
   "codemirror_mode": {
    "name": "ipython",
    "version": 3
   },
   "file_extension": ".py",
   "mimetype": "text/x-python",
   "name": "python",
   "nbconvert_exporter": "python",
   "pygments_lexer": "ipython3",
   "version": "3.10.9"
  }
 },
 "nbformat": 4,
 "nbformat_minor": 5
}
